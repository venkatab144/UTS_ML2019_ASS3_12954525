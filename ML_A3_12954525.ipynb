{
  "nbformat": 4,
  "nbformat_minor": 0,
  "metadata": {
    "colab": {
      "name": "ML_A3_12954525.ipynb",
      "provenance": [],
      "collapsed_sections": [],
      "include_colab_link": true
    },
    "kernelspec": {
      "name": "python3",
      "display_name": "Python 3"
    }
  },
  "cells": [
    {
      "cell_type": "markdown",
      "metadata": {
        "id": "view-in-github",
        "colab_type": "text"
      },
      "source": [
        "<a href=\"https://colab.research.google.com/github/venkatab144/UTS_ML2019_ASS3_12954525/blob/master/ML_A3_12954525.ipynb\" target=\"_parent\"><img src=\"https://colab.research.google.com/assets/colab-badge.svg\" alt=\"Open In Colab\"/></a>"
      ]
    },
    {
      "cell_type": "markdown",
      "metadata": {
        "id": "tS5ghTEYYQKZ",
        "colab_type": "text"
      },
      "source": [
        "# The Question\n",
        "\n",
        "*Marketing or advertising companies would be very interested in being able to\n",
        "predict whether a Twitter message will spread as a meme or not, and even better,\n",
        "construct it so that it will spread. Why is this a hard problem to solve? Describe two\n",
        "approaches using data analytics to predict whether a tweet will go viral or not. How\n",
        "would you validate these approaches? Discuss the ethical and social consequence\n",
        "of this study.*"
      ]
    },
    {
      "cell_type": "markdown",
      "metadata": {
        "id": "NPAvlq112l3X",
        "colab_type": "text"
      },
      "source": [
        "# Introduction\n",
        "\n",
        "The following report will address the question cited above, regarding the construction and prediction of which tweets will be viral. There are three sections in this report; Problems, Approaches and Ethics and Social Consequences. This report will cite many examples from external scientific papers and journals, reports and various online resources resources in order to analyse and provide a theoretical solution to the question proposed. \n",
        "\n",
        "The Problems section will highlight current and future issues that would arise when implementing (gathering and analyzing data) the soltuion, and also identify the complex nature of this issue and the reason why it is a difficult problem to solve. The Approaches section will list the two approaches that have been proposed in this report to create a hypothetical solution to the problem: the construction and prediction of viral tweets. Finally, the Ethics section discuesses the Ethical issues that could arise from the hypothetical solutions proposed in this report, and the social consequences of improper and unethical usage."
      ]
    },
    {
      "cell_type": "markdown",
      "metadata": {
        "id": "CWl-datFi32r",
        "colab_type": "text"
      },
      "source": [
        "# Problems\n",
        "\n",
        "When trying to construct a tweet that will be viral, or predict whether a tweet will be viral, there are many obtacles and problems that need to be overcome in order to achieve a satisfactory solution. Some of the issues that we may run in to, which makes this problem so complex and difficult, is that it is hard to pick out one set of characteristics or features that makes something, anything, go viral. Especially on an online medium that is contanstly transforming everday and has such a wide reach, and in a world where there is a lot of volatility and where the perceptions of individuals are changing and adapting constantly. As such, it is necessarcy to have a dynamic solution that has the ability to quickly adapt to the present society.\n",
        "\n",
        "One issue with construction and prediction is identifying which features to select to achieve the best results. It is also difficult to assign weights to each features as that requires analyzing a countless amount of data to figure out which features are the most influential on the model.\n",
        "\n",
        "Some features can be irrelevant and have a negative impact on the accuracy of the model. For example, if one of the features that has been identified as being influential is the number of followers for a Twitter account, we might look at a tweet that has a high number of retweets and the author who has a low number of followers and create an association. But, in reality, it was just a one off tweet that went viral and the rest of the users tweets did not.\n",
        "\n",
        "A major problem of attempting to predict whether something will be viral is that there is a large prediction risk. \"Prediction risk is defined as the expected performance of an estimator in predicting new observations.\" (Moody 1994)[8]. Applied in this context, there is a large prediction risk as there are over 500 million tweets per day (Hootsuite 2019)[5] and a recent study showed that out of 1.2 billion tweets collected, only 6% of tweets were retweeted (Sysomos 2010)[10]. Another study found that only 4% of tweets got more than 50 retweets (Maximillian J., Kasneci G & Naumann F., 2013)[2]. As such, it is clear to see that retweets, the measure of virality of a tweet, are a rare occurence. \n",
        "\n",
        "In order to train a model, a significantly large amount of tweets would need to be collected in order to train a model that could predict the virality of a tweet. If you alter your data to manually include/boost the amount of viral tweets then it would be trained on modified data and not perform well in the real world.\n",
        "\n",
        "It is also difficult to define what a viral tweet is. What does viral mean? What is used to measure virality? This is different for every context and social media platform.\n",
        "\n",
        "Another problem specific to Twitter and gathering tweets for training data is Twitters rate limiting. In order to send a GET request to Twitters API for reading tweets, the rate is set to 180 request per 15 minute window (Twitter 2019)[20], it would take more than 1,388 hours or 57 days to gather one million tweets, which would only result in 60,000 tweets which have been retweeted. \n",
        "\n",
        "\n",
        "\n"
      ]
    },
    {
      "cell_type": "markdown",
      "metadata": {
        "id": "61T_mwXtpaRH",
        "colab_type": "text"
      },
      "source": [
        "# Approaches\n",
        "\n",
        "The first approach is to design a neural network paired with the bag of words natural language processing model. Tweets are gathered and analysed, and distinct words are collected and a set of words are stored. Twitter has several statistics such as retweets and likes. For this purpose, retweets will be used to measure the virality of tweets as they create a cascading effect (Cheng J et al.) [1]. A convolusional neural network is then created with an input node, hidden layers and an output node. Each distinct word from the collected set is mapped to an input node.\n",
        "\n",
        "A multi-layer perceptron regressor is used to construct this CNN. Each word has a weighting and the output of this model is a sentence that has been predicted to go viral. This approach does not account for emotional weighting, nor does it consider the statistics of the user who will post the tweet. It only analyses the frequency of words that are used in viral tweets. Therefore this approach is not the best or most accurate to construct viral tweets.\n",
        "\n",
        "Another approach is taken from [2]. It involves analysing a tweet and predicting if it will go viral. This approach involves looking at aspect of the tweet such as retweets, date of the tweet, length, sentiment analysis and followers, tweets and mentions of the author. \n",
        "\n",
        "Two different models are used and compared in this study; the generalized linear model and the naive bayes model. In this approach, each feature of the tweet has a weighting unlike the previous appraoch where every word had a weighting. \n",
        "\n",
        "Tweets are a form of expression or communication of data online and carry their bias. Therefore, to get the emotional weighting of a tweet, a sentiment analysis is required to be carried out. The paper [2] addresses this issue by utlizing SentiStrength to calculate the sentiment strength of text. Recent relevant events also influence the success and impact of a tweet, so it would be worthwhile to gather information about socio-political events that might influence the perception of individuals.\n",
        "\n",
        "The definition of \"viral\" tweet in this study is a tweet that has achieved more that 50, 100, 500 or 1000 retweets with a new model being trained for each threshold. This produces satisfactory results with the following f-scores obtained for each model and threshold.\n"
      ]
    },
    {
      "cell_type": "markdown",
      "metadata": {
        "id": "r7u56b48xdOq",
        "colab_type": "text"
      },
      "source": [
        "# Ethics\n",
        "\n",
        "An ethical issue regarding this problem and its solution is the possible invasion of privacy when using the twitter API to access tweets for various individuals. Though the tweets are on public domain, it can still be considered by some to be a breach, especially in the case of images and other media.\n",
        "\n",
        "If a model was created to construct viral tweets, it could start analysing contoversial content which can be offensive and harmful to viewers and construct tweets based off that. This happened with Microsofts Twitter chatbot Tay, which, after analyzing and learning from users tweets, started tweeting homophobic and anti-semetic tweets. (The Verge 2016) [9]\n",
        "\n",
        "If a model is built that can 100% generate viral tweets then it would slowly defeat the purpose of viral tweets as everyone would be able to generate them. It would make them normal and take away whats special, forcing society to adapt and create a new definition for viral."
      ]
    },
    {
      "cell_type": "markdown",
      "metadata": {
        "id": "cOKwpRo61mZ4",
        "colab_type": "text"
      },
      "source": [
        "# Conclusion\n",
        "\n",
        "In conclusion, the complex nature of this tasks results in a lot of difficulty. There are a lot of features that have to be analyzed and the process of gathering enough data is extremely time consuming. It is extremely difficult to construct a tweet that will go viral and it is equally as difficult to predict which tweets will go viral. Of the two approaches, the second approach yielded the best results with the generalized linear model producing better results than the naive bayes model.\n",
        "\n"
      ]
    },
    {
      "cell_type": "markdown",
      "metadata": {
        "id": "urJMeGqIOVoh",
        "colab_type": "text"
      },
      "source": [
        "# References\n",
        "\n",
        "[1] Cheng, J., Adamic A. Lada., Alex Dow P., Klienberg J., Leskovec J., 2014, 'Can cascades be predicted?', Cornell\n",
        "\n",
        "[2] Maximillian J., Kasneci G., Naumann F., 2013, 'Analysing and Predicting Viral Tweets', Hasso Plattner Institute\n",
        "\n",
        "[3] Medium 2017, Predicting popular tweets with Python and Neural Networks on a Raspberry Pi, viewed 8 October 2019, <https://medium.com/@joshua_e_k/predicting-popular-tweets-with-python-and-neural-networks-on-a-raspberry-pi-71b63616c2f4>\n",
        "\n",
        "[4] Du N., Song L., Gomez-Rodriguez M., Zha H., 'Scalable Influence Estimation in Continuous-Time Diffusion Networks', Georgia Institute of Technology\n",
        "\n",
        "[5] Hootsuite 2019, 28 Twitter Statistics All Marketers Need to Know in 2019, viewed 8 October 2019, <https://blog.hootsuite.com/twitter-statistics/>\n",
        "\n",
        "[6] Machine Learning Mastery 2017, A Gentle Introduction to the Bag-of-Words Model, viewed 8th October, <https://machinelearningmastery.com/gentle-introduction-bag-words-model/>\n",
        "\n",
        "[7] Quora 2015, How do I start if I want to build a model to predict if a tweet will go viral?,viewed 8 October 2019, <https://www.quora.com/How-do-I-start-if-I-want-to-build-a-model-to-predict-if-a-tweet-will-go-viral>\n",
        "\n",
        "[8] Moody J., 1994,'Prediction Risk and Architecture Selection for Neural Networks', Oregon Graduate Institute\n",
        "\n",
        "[9] The Verge 2016, Twitter taught Microsoft’s AI chatbot to be a racist asshole in less than a day, viewed 8 October 2019, <https://www.theverge.com/2016/3/24/11297050/tay-microsoft-chatbot-racist>\n",
        "\n",
        "[10] Sysomos 2010, Replies and Retweets on Twitter,viewed 8 October 2019, <https://sysomos.com/inside-twitter/twitter-retweet-stats/>\n",
        "\n",
        "[19] Deep Advantage 2019, New Research on Blog Retweets: The First Retweet is Most Important,viewed 9 October 2019, <https://www.deepadvantage.com/blog/retweets-beget-retweets/>\n",
        "\n",
        "[20] Twitter 2019, Rate Limits, viewed October 8 2019, <https://developer.twitter.com/en/docs/basics/rate-limits>\n",
        "\n",
        "\n"
      ]
    }
  ]
}